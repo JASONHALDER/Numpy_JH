{
 "cells": [
  {
   "cell_type": "code",
   "execution_count": 237,
   "id": "70486b91",
   "metadata": {},
   "outputs": [
    {
     "name": "stdout",
     "output_type": "stream",
     "text": [
      "jason\n"
     ]
    }
   ],
   "source": [
    "print(\"jason\") #printing name"
   ]
  },
  {
   "cell_type": "markdown",
   "id": "abf157e0",
   "metadata": {},
   "source": [
    "#Import Laibary"
   ]
  },
  {
   "cell_type": "code",
   "execution_count": 238,
   "id": "33d1b0a7",
   "metadata": {},
   "outputs": [],
   "source": [
    "import numpy as np"
   ]
  },
  {
   "cell_type": "code",
   "execution_count": 239,
   "id": "72c72882",
   "metadata": {},
   "outputs": [
    {
     "name": "stdout",
     "output_type": "stream",
     "text": [
      "2.1.3\n"
     ]
    }
   ],
   "source": [
    "print(np.__version__) #Check the version of numpy"
   ]
  },
  {
   "cell_type": "code",
   "execution_count": 240,
   "id": "c0be49a4",
   "metadata": {},
   "outputs": [
    {
     "data": {
      "text/plain": [
       "array([1, 2, 3, 4])"
      ]
     },
     "execution_count": 240,
     "metadata": {},
     "output_type": "execute_result"
    }
   ],
   "source": [
    "arr =np.array([1,2,3,4]) #create a Numpy array\n",
    "arr"
   ]
  },
  {
   "cell_type": "code",
   "execution_count": 241,
   "id": "7918c0c5",
   "metadata": {},
   "outputs": [
    {
     "name": "stdout",
     "output_type": "stream",
     "text": [
      "<class 'numpy.ndarray'>\n"
     ]
    }
   ],
   "source": [
    "print(type(arr)) #check the class"
   ]
  },
  {
   "cell_type": "markdown",
   "id": "26212188",
   "metadata": {},
   "source": [
    "0-D Array"
   ]
  },
  {
   "cell_type": "code",
   "execution_count": 242,
   "id": "ce395d3f",
   "metadata": {},
   "outputs": [
    {
     "data": {
      "text/plain": [
       "array(100)"
      ]
     },
     "execution_count": 242,
     "metadata": {},
     "output_type": "execute_result"
    }
   ],
   "source": [
    "arr = np.array(100)\n",
    "arr"
   ]
  },
  {
   "cell_type": "code",
   "execution_count": 243,
   "id": "fe9939ff",
   "metadata": {},
   "outputs": [
    {
     "name": "stdout",
     "output_type": "stream",
     "text": [
      "<class 'numpy.ndarray'>\n",
      "100\n"
     ]
    }
   ],
   "source": [
    "print(type(arr))\n",
    "print(arr)"
   ]
  },
  {
   "cell_type": "markdown",
   "id": "ab22d766",
   "metadata": {},
   "source": [
    "1-D Array"
   ]
  },
  {
   "cell_type": "code",
   "execution_count": 244,
   "id": "2c6ea133",
   "metadata": {},
   "outputs": [
    {
     "name": "stdout",
     "output_type": "stream",
     "text": [
      "[1 2 3]\n",
      "<class 'numpy.ndarray'>\n"
     ]
    }
   ],
   "source": [
    "arr1 = np.array([1,2,3])\n",
    "print(arr1)\n",
    "print(type(arr1))"
   ]
  },
  {
   "cell_type": "markdown",
   "id": "adbea240",
   "metadata": {},
   "source": [
    "2-D Array"
   ]
  },
  {
   "cell_type": "code",
   "execution_count": 245,
   "id": "8d50bcd1",
   "metadata": {},
   "outputs": [
    {
     "name": "stdout",
     "output_type": "stream",
     "text": [
      "[[1 2 3]\n",
      " [4 5 6]]\n",
      "<class 'numpy.ndarray'>\n"
     ]
    }
   ],
   "source": [
    "arr2 = np.array([[1,2,3],[4,5,6]])\n",
    "print(arr2)\n",
    "print(type(arr2))"
   ]
  },
  {
   "cell_type": "markdown",
   "id": "42be53a2",
   "metadata": {},
   "source": [
    "3-D Array"
   ]
  },
  {
   "cell_type": "code",
   "execution_count": 246,
   "id": "8d4acaed",
   "metadata": {},
   "outputs": [
    {
     "name": "stdout",
     "output_type": "stream",
     "text": [
      "[[[ 1  2  3]\n",
      "  [ 4  5  6]]\n",
      "\n",
      " [[ 7  8  9]\n",
      "  [10 11 12]]]\n",
      "<class 'numpy.ndarray'>\n"
     ]
    }
   ],
   "source": [
    "arr3 = np.array([[[1,2,3],[4,5,6]],[[7,8,9],[10,11,12]]])\n",
    "print(arr3)\n",
    "print(type(arr3))"
   ]
  },
  {
   "cell_type": "markdown",
   "id": "ab30a07e",
   "metadata": {},
   "source": [
    "check the dimentions"
   ]
  },
  {
   "cell_type": "code",
   "execution_count": 247,
   "id": "ffe79de1",
   "metadata": {},
   "outputs": [
    {
     "name": "stdout",
     "output_type": "stream",
     "text": [
      "0-D 0\n",
      "1-D 1\n",
      "2-D 2\n",
      "3-D 3\n"
     ]
    }
   ],
   "source": [
    "print(\"0-D\",arr.ndim)\n",
    "print(\"1-D\",arr1.ndim)\n",
    "print(\"2-D\",arr2.ndim)\n",
    "print(\"3-D\",arr3.ndim)"
   ]
  },
  {
   "cell_type": "markdown",
   "id": "a4f9571a",
   "metadata": {},
   "source": [
    "other way to create dimention like"
   ]
  },
  {
   "cell_type": "code",
   "execution_count": 248,
   "id": "c1914789",
   "metadata": {},
   "outputs": [
    {
     "name": "stdout",
     "output_type": "stream",
     "text": [
      "0 [1] [[2]] [[[3]]]\n",
      "0-D 0\n",
      "1-D 1\n",
      "2-D 2\n",
      "3-D 3\n"
     ]
    }
   ],
   "source": [
    "a = np.array(0)\n",
    "b = np.array([1])\n",
    "c = np.array([[2]])\n",
    "d = np.array([[[3]]])\n",
    "print(a,b,c,d)\n",
    "print(\"0-D\",a.ndim)\n",
    "print(\"1-D\",b.ndim)\n",
    "print(\"2-D\",c.ndim)\n",
    "print(\"3-D\",d.ndim)"
   ]
  },
  {
   "cell_type": "markdown",
   "id": "04287abb",
   "metadata": {},
   "source": [
    "higher dimantion array"
   ]
  },
  {
   "cell_type": "code",
   "execution_count": 249,
   "id": "6deb1e16",
   "metadata": {},
   "outputs": [],
   "source": [
    "jh = np.array([1,2,3,4,5])"
   ]
  },
  {
   "cell_type": "code",
   "execution_count": 250,
   "id": "99afb1dd",
   "metadata": {},
   "outputs": [
    {
     "name": "stdout",
     "output_type": "stream",
     "text": [
      "[1 2 3 4 5]\n",
      "<class 'numpy.ndarray'>\n",
      "1\n"
     ]
    }
   ],
   "source": [
    "print(jh)\n",
    "print(type(jh))\n",
    "print(jh.ndim)"
   ]
  },
  {
   "cell_type": "code",
   "execution_count": 251,
   "id": "cbef10f0",
   "metadata": {},
   "outputs": [
    {
     "name": "stdout",
     "output_type": "stream",
     "text": [
      "[[[[[[[[[[1 2 3 4 5]]]]]]]]]]\n",
      "<class 'numpy.ndarray'>\n",
      "10\n"
     ]
    }
   ],
   "source": [
    "jh = np.array([1,2,3,4,5], ndmin=10) # ndimn(number of dimantion) = 10 means 10-D array\n",
    "print(jh)\n",
    "print(type(jh))\n",
    "print(jh.ndim)"
   ]
  },
  {
   "cell_type": "markdown",
   "id": "1f514b90",
   "metadata": {},
   "source": [
    "assess array elements"
   ]
  },
  {
   "cell_type": "code",
   "execution_count": 252,
   "id": "54fc6764",
   "metadata": {},
   "outputs": [
    {
     "name": "stdout",
     "output_type": "stream",
     "text": [
      "[1 2 3 4]\n",
      "<class 'numpy.ndarray'>\n",
      "1\n",
      "1\n"
     ]
    }
   ],
   "source": [
    "jh1 = np.array([1,2,3,4])\n",
    "print(jh1)\n",
    "print(type(jh1))\n",
    "print(jh1.ndim)\n",
    "print(jh1[0]) #find position of 1 "
   ]
  },
  {
   "cell_type": "code",
   "execution_count": 253,
   "id": "f0ec7c75",
   "metadata": {},
   "outputs": [
    {
     "name": "stdout",
     "output_type": "stream",
     "text": [
      "4\n"
     ]
    }
   ],
   "source": [
    "#like(0=1,1=2,2=3,3=4) \n",
    "print(jh1[3]) #find position of 4 "
   ]
  },
  {
   "cell_type": "code",
   "execution_count": 254,
   "id": "e8df48f3",
   "metadata": {},
   "outputs": [
    {
     "name": "stdout",
     "output_type": "stream",
     "text": [
      "5\n"
     ]
    }
   ],
   "source": [
    "#ADD array\n",
    "jh1 = np.array([1,2,3,4])\n",
    "print(jh1[0] + jh1[3]) #0=1 & 3=4 result will be 1+4=5"
   ]
  },
  {
   "cell_type": "markdown",
   "id": "1b705886",
   "metadata": {},
   "source": [
    "access 2, 3 Dimantion array elements"
   ]
  },
  {
   "cell_type": "code",
   "execution_count": 255,
   "id": "495ddaab",
   "metadata": {},
   "outputs": [
    {
     "name": "stdout",
     "output_type": "stream",
     "text": [
      "[[1 2 3]\n",
      " [4 5 6]]\n",
      "[[[ 1  2  3]\n",
      "  [ 4  5  6]]\n",
      "\n",
      " [[ 7  8  9]\n",
      "  [10 11 12]]]\n"
     ]
    }
   ],
   "source": [
    "arr2 = np.array([[1,2,3],[4,5,6]]) #2-D\n",
    "arr3 = np.array([[[1,2,3],[4,5,6]],[[7,8,9],[10,11,12]]]) #3-D\n",
    "print(arr2)\n",
    "print(arr3)"
   ]
  },
  {
   "cell_type": "code",
   "execution_count": 256,
   "id": "0297b61a",
   "metadata": {},
   "outputs": [
    {
     "name": "stdout",
     "output_type": "stream",
     "text": [
      "1\n",
      "3\n",
      "5\n"
     ]
    }
   ],
   "source": [
    "#find 1, 3, 5 from arr2(2-D)\n",
    "print(arr2 [0,0]) \n",
    "print(arr2 [0,2])\n",
    "print(arr2 [1,1]) "
   ]
  },
  {
   "cell_type": "code",
   "execution_count": 257,
   "id": "7606449c",
   "metadata": {},
   "outputs": [
    {
     "name": "stdout",
     "output_type": "stream",
     "text": [
      "1\n",
      "3\n",
      "5\n",
      "9\n",
      "11\n"
     ]
    }
   ],
   "source": [
    "#find 1, 3, 5, 9, 11 from arr3(3-D)\n",
    "print(arr3 [0,0,0]) \n",
    "print(arr3 [0,0,2])\n",
    "print(arr3 [0,1,1]) \n",
    "print(arr3 [1,0,2])\n",
    "print(arr3 [1,1,1])"
   ]
  },
  {
   "cell_type": "markdown",
   "id": "450b4a70",
   "metadata": {},
   "source": [
    "negative indexing"
   ]
  },
  {
   "cell_type": "code",
   "execution_count": 258,
   "id": "8bad08b8",
   "metadata": {},
   "outputs": [
    {
     "name": "stdout",
     "output_type": "stream",
     "text": [
      "5\n",
      "3\n",
      "1\n"
     ]
    }
   ],
   "source": [
    "#find 5, 3, 1 from arr2(2-D)\n",
    "print(arr2 [-1,-2]) \n",
    "print(arr2 [0,-1])\n",
    "print(arr2 [0,-3]) "
   ]
  },
  {
   "cell_type": "markdown",
   "id": "0292e283",
   "metadata": {},
   "source": [
    "slicing arrays"
   ]
  },
  {
   "cell_type": "code",
   "execution_count": 259,
   "id": "bc5abf69",
   "metadata": {},
   "outputs": [],
   "source": [
    "#[start:end]\n",
    "#[start:end:step]"
   ]
  },
  {
   "cell_type": "code",
   "execution_count": 260,
   "id": "b6aa239b",
   "metadata": {},
   "outputs": [
    {
     "name": "stdout",
     "output_type": "stream",
     "text": [
      "[1 2 3 4 5 6]\n"
     ]
    }
   ],
   "source": [
    "jh4 = np.array([1,2,3,4,5,6,7])\n",
    "print(jh4[-7:-1])"
   ]
  },
  {
   "cell_type": "code",
   "execution_count": 261,
   "id": "195d19c0",
   "metadata": {},
   "outputs": [
    {
     "name": "stdout",
     "output_type": "stream",
     "text": [
      "[3 6]\n"
     ]
    }
   ],
   "source": [
    "jh4 = np.array([1,2,3,4,5,6,7])\n",
    "print(jh4[2:6:3]) #step"
   ]
  },
  {
   "cell_type": "code",
   "execution_count": 262,
   "id": "b93d7961",
   "metadata": {},
   "outputs": [
    {
     "name": "stdout",
     "output_type": "stream",
     "text": [
      "arr2 =  [4 6]\n",
      "arr3 =  [10 12]\n",
      "arr3 =  [4 6]\n"
     ]
    }
   ],
   "source": [
    "arr2 = np.array([[1,2,3],[4,5,6]]) #2-D\n",
    "arr3 = np.array([[[1,2,3],[4,5,6]],[[7,8,9],[10,11,12]]]) #3-D\n",
    "print(\"arr2 = \", arr2[1,0:3:2]) #find 4,6 from 2-D\n",
    "print(\"arr3 = \", arr3[1,1,0:3:2]) #find 10,12 from 3-D\n",
    "print(\"arr3 = \", arr3[0,1,0:3:2]) "
   ]
  },
  {
   "cell_type": "code",
   "execution_count": 263,
   "id": "899c4a58",
   "metadata": {},
   "outputs": [
    {
     "name": "stdout",
     "output_type": "stream",
     "text": [
      "[[2 3 4]\n",
      " [7 8 9]]\n"
     ]
    }
   ],
   "source": [
    "arr000 = np.array([[1, 2, 3, 4, 5], [6, 7, 8, 9, 10]])\n",
    "\n",
    "print(arr000[0:2, 1:4])"
   ]
  },
  {
   "cell_type": "markdown",
   "id": "a1d761de",
   "metadata": {},
   "source": [
    "data types in numpy"
   ]
  },
  {
   "cell_type": "code",
   "execution_count": 264,
   "id": "908a6ca2",
   "metadata": {},
   "outputs": [
    {
     "data": {
      "text/plain": [
       "'\\ni - integer\\nb - boolean\\nu - unsigned integer\\nf - float\\nc - complex float\\nm - timedelta\\nM - datetime\\nO - object\\nS - string\\nU - unicode string\\nV - fixed chunk of memory for other type ( void )\\n'"
      ]
     },
     "execution_count": 264,
     "metadata": {},
     "output_type": "execute_result"
    }
   ],
   "source": [
    "'''\n",
    "i - integer\n",
    "b - boolean\n",
    "u - unsigned integer\n",
    "f - float\n",
    "c - complex float\n",
    "m - timedelta\n",
    "M - datetime\n",
    "O - object\n",
    "S - string\n",
    "U - unicode string\n",
    "V - fixed chunk of memory for other type ( void )\n",
    "'''"
   ]
  },
  {
   "cell_type": "markdown",
   "id": "258f027f",
   "metadata": {},
   "source": [
    "checking data type of an array"
   ]
  },
  {
   "cell_type": "code",
   "execution_count": 265,
   "id": "0f0493bd",
   "metadata": {},
   "outputs": [
    {
     "name": "stdout",
     "output_type": "stream",
     "text": [
      "<class 'numpy.ndarray'> int64\n"
     ]
    }
   ],
   "source": [
    "a = np.array([1,2,3,4])\n",
    "print(type(a), a.dtype)"
   ]
  },
  {
   "cell_type": "code",
   "execution_count": 266,
   "id": "b3b24658",
   "metadata": {},
   "outputs": [
    {
     "name": "stdout",
     "output_type": "stream",
     "text": [
      "<class 'numpy.ndarray'>\n",
      "<U6\n"
     ]
    }
   ],
   "source": [
    "b = np.array([\"jason\", \"derick\", \"stalin\"])\n",
    "print(type(b))\n",
    "print(b.dtype)"
   ]
  },
  {
   "cell_type": "markdown",
   "id": "fdc71f24",
   "metadata": {},
   "source": [
    "Defined Data Type"
   ]
  },
  {
   "cell_type": "code",
   "execution_count": 267,
   "id": "32289229",
   "metadata": {},
   "outputs": [
    {
     "name": "stdout",
     "output_type": "stream",
     "text": [
      "[1 2 3 4 5]\n",
      "<class 'numpy.ndarray'>\n",
      "int64\n"
     ]
    }
   ],
   "source": [
    "aa = np.array([1,2,3,4,5])\n",
    "print(aa)\n",
    "print(type(aa))\n",
    "print(aa.dtype)"
   ]
  },
  {
   "cell_type": "code",
   "execution_count": 268,
   "id": "eef5de90",
   "metadata": {},
   "outputs": [
    {
     "name": "stdout",
     "output_type": "stream",
     "text": [
      "[b'1' b'2' b'3' b'4' b'5']\n",
      "<class 'numpy.ndarray'>\n",
      "|S1\n"
     ]
    }
   ],
   "source": [
    "aa = np.array([1,2,3,4,5], dtype=\"S\") #For i, u, f, S and U we can define size as well.\n",
    "print(aa)\n",
    "print(type(aa))\n",
    "print(aa.dtype)"
   ]
  },
  {
   "cell_type": "code",
   "execution_count": 269,
   "id": "2605672e",
   "metadata": {},
   "outputs": [
    {
     "name": "stdout",
     "output_type": "stream",
     "text": [
      "[1 2 3 4 5]\n",
      "<class 'numpy.ndarray'>\n",
      "int32\n"
     ]
    }
   ],
   "source": [
    "aa = np.array([1,2,3,4,5], dtype=\"i4\") #data type 4 bytes integer\n",
    "print(aa)\n",
    "print(type(aa))\n",
    "print(aa.dtype)"
   ]
  },
  {
   "cell_type": "markdown",
   "id": "7d1c0e31",
   "metadata": {},
   "source": [
    "The astype() function creates a copy of the array, and allows you to specify the data type as a parameter."
   ]
  },
  {
   "cell_type": "code",
   "execution_count": 270,
   "id": "88ded7ff",
   "metadata": {},
   "outputs": [
    {
     "name": "stdout",
     "output_type": "stream",
     "text": [
      "[1.1 2.1 3.1]\n",
      "<class 'numpy.ndarray'>\n",
      "float64\n",
      "[1 2 3]\n",
      "int32\n"
     ]
    }
   ],
   "source": [
    "jj = np.array([1.1, 2.1, 3.1])\n",
    "print(jj)\n",
    "print(type(jj))\n",
    "print(jj.dtype)\n",
    "newjj = jj.astype('i') #i=int32\n",
    "print(newjj)\n",
    "print(newjj.dtype)"
   ]
  },
  {
   "cell_type": "code",
   "execution_count": 271,
   "id": "7dd00178",
   "metadata": {},
   "outputs": [
    {
     "name": "stdout",
     "output_type": "stream",
     "text": [
      "[1.1 2.1 3.1]\n",
      "<class 'numpy.ndarray'>\n",
      "float64\n",
      "[1 2 3]\n",
      "int64\n"
     ]
    }
   ],
   "source": [
    "jj = np.array([1.1, 2.1, 3.1])\n",
    "print(jj)\n",
    "print(type(jj))\n",
    "print(jj.dtype)\n",
    "newjj = jj.astype('int') #int=int64\n",
    "print(newjj)\n",
    "print(newjj.dtype)"
   ]
  },
  {
   "cell_type": "code",
   "execution_count": 272,
   "id": "056ff592",
   "metadata": {},
   "outputs": [
    {
     "name": "stdout",
     "output_type": "stream",
     "text": [
      "[1 0 3]\n",
      "<class 'numpy.ndarray'>\n",
      "int64\n",
      "[ True False  True]\n",
      "bool\n"
     ]
    }
   ],
   "source": [
    "rr = np.array([1, 0, 3])\n",
    "print(rr)\n",
    "print(type(rr))\n",
    "print(rr.dtype)\n",
    "newrr = rr.astype(bool)\n",
    "print(newrr)\n",
    "print(newrr.dtype)"
   ]
  },
  {
   "cell_type": "markdown",
   "id": "1eeba1fe",
   "metadata": {},
   "source": [
    "numpy array copy vs view"
   ]
  },
  {
   "cell_type": "code",
   "execution_count": 273,
   "id": "273438cc",
   "metadata": {},
   "outputs": [
    {
     "name": "stdout",
     "output_type": "stream",
     "text": [
      "[42  2  3  4  5]\n",
      "[1 2 3 4 5]\n"
     ]
    }
   ],
   "source": [
    "arr010 = np.array([1, 2, 3, 4, 5])\n",
    "x = arr010.copy()\n",
    "arr010[0] = 42\n",
    "\n",
    "print(arr010)\n",
    "print(x)"
   ]
  },
  {
   "cell_type": "code",
   "execution_count": 274,
   "id": "c3bfdfcf",
   "metadata": {},
   "outputs": [
    {
     "name": "stdout",
     "output_type": "stream",
     "text": [
      "[42  2  3  4  5]\n",
      "[42  2  3  4  5]\n"
     ]
    }
   ],
   "source": [
    "arr011 = np.array([1, 2, 3, 4, 5])\n",
    "x = arr011.view()\n",
    "arr011[0] = 42\n",
    "\n",
    "print(arr011)\n",
    "print(x)"
   ]
  },
  {
   "cell_type": "code",
   "execution_count": null,
   "id": "6dcb348d",
   "metadata": {},
   "outputs": [
    {
     "name": "stdout",
     "output_type": "stream",
     "text": [
      "[31  2  3  4  5]\n",
      "[31  2  3  4  5]\n"
     ]
    }
   ],
   "source": [
    "arr_0 = np.array([1, 2, 3, 4, 5])\n",
    "x = arr_0.view()\n",
    "x[0] = 31\n",
    "\n",
    "print(arr_0)\n",
    "print(x)"
   ]
  },
  {
   "cell_type": "code",
   "execution_count": null,
   "id": "a1ec3180",
   "metadata": {},
   "outputs": [],
   "source": []
  }
 ],
 "metadata": {
  "kernelspec": {
   "display_name": "Python 3",
   "language": "python",
   "name": "python3"
  },
  "language_info": {
   "codemirror_mode": {
    "name": "ipython",
    "version": 3
   },
   "file_extension": ".py",
   "mimetype": "text/x-python",
   "name": "python",
   "nbconvert_exporter": "python",
   "pygments_lexer": "ipython3",
   "version": "3.10.11"
  }
 },
 "nbformat": 4,
 "nbformat_minor": 5
}
