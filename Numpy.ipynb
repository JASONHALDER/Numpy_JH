{
 "cells": [
  {
   "cell_type": "code",
   "execution_count": 46,
   "id": "70486b91",
   "metadata": {},
   "outputs": [
    {
     "name": "stdout",
     "output_type": "stream",
     "text": [
      "jason\n"
     ]
    }
   ],
   "source": [
    "print(\"jason\") #printing name"
   ]
  },
  {
   "cell_type": "markdown",
   "id": "abf157e0",
   "metadata": {},
   "source": [
    "#Import Laibary"
   ]
  },
  {
   "cell_type": "code",
   "execution_count": 47,
   "id": "33d1b0a7",
   "metadata": {},
   "outputs": [],
   "source": [
    "import numpy as np"
   ]
  },
  {
   "cell_type": "code",
   "execution_count": 48,
   "id": "72c72882",
   "metadata": {},
   "outputs": [
    {
     "name": "stdout",
     "output_type": "stream",
     "text": [
      "2.1.3\n"
     ]
    }
   ],
   "source": [
    "print(np.__version__) #Check the version of numpy"
   ]
  },
  {
   "cell_type": "code",
   "execution_count": 49,
   "id": "c0be49a4",
   "metadata": {},
   "outputs": [
    {
     "data": {
      "text/plain": [
       "array([1, 2, 3, 4])"
      ]
     },
     "execution_count": 49,
     "metadata": {},
     "output_type": "execute_result"
    }
   ],
   "source": [
    "arr =np.array([1,2,3,4]) #create a Numpy array\n",
    "arr"
   ]
  },
  {
   "cell_type": "code",
   "execution_count": 50,
   "id": "7918c0c5",
   "metadata": {},
   "outputs": [
    {
     "name": "stdout",
     "output_type": "stream",
     "text": [
      "<class 'numpy.ndarray'>\n"
     ]
    }
   ],
   "source": [
    "print(type(arr)) #check the class"
   ]
  },
  {
   "cell_type": "markdown",
   "id": "26212188",
   "metadata": {},
   "source": [
    "0-D Array"
   ]
  },
  {
   "cell_type": "code",
   "execution_count": 51,
   "id": "ce395d3f",
   "metadata": {},
   "outputs": [
    {
     "data": {
      "text/plain": [
       "array(100)"
      ]
     },
     "execution_count": 51,
     "metadata": {},
     "output_type": "execute_result"
    }
   ],
   "source": [
    "arr = np.array(100)\n",
    "arr"
   ]
  },
  {
   "cell_type": "code",
   "execution_count": 52,
   "id": "fe9939ff",
   "metadata": {},
   "outputs": [
    {
     "name": "stdout",
     "output_type": "stream",
     "text": [
      "<class 'numpy.ndarray'>\n",
      "100\n"
     ]
    }
   ],
   "source": [
    "print(type(arr))\n",
    "print(arr)"
   ]
  },
  {
   "cell_type": "markdown",
   "id": "ab22d766",
   "metadata": {},
   "source": [
    "1-D Array"
   ]
  },
  {
   "cell_type": "code",
   "execution_count": 53,
   "id": "2c6ea133",
   "metadata": {},
   "outputs": [
    {
     "name": "stdout",
     "output_type": "stream",
     "text": [
      "[1 2 3]\n",
      "<class 'numpy.ndarray'>\n"
     ]
    }
   ],
   "source": [
    "arr1 = np.array([1,2,3])\n",
    "print(arr1)\n",
    "print(type(arr1))"
   ]
  },
  {
   "cell_type": "markdown",
   "id": "adbea240",
   "metadata": {},
   "source": [
    "2-D Array"
   ]
  },
  {
   "cell_type": "code",
   "execution_count": 54,
   "id": "8d50bcd1",
   "metadata": {},
   "outputs": [
    {
     "name": "stdout",
     "output_type": "stream",
     "text": [
      "[[1 2 3]\n",
      " [4 5 6]]\n",
      "<class 'numpy.ndarray'>\n"
     ]
    }
   ],
   "source": [
    "arr2 = np.array([[1,2,3],[4,5,6]])\n",
    "print(arr2)\n",
    "print(type(arr2))"
   ]
  },
  {
   "cell_type": "markdown",
   "id": "42be53a2",
   "metadata": {},
   "source": [
    "3-D Array"
   ]
  },
  {
   "cell_type": "code",
   "execution_count": 55,
   "id": "8d4acaed",
   "metadata": {},
   "outputs": [
    {
     "name": "stdout",
     "output_type": "stream",
     "text": [
      "[[[ 1  2  3]\n",
      "  [ 4  5  6]]\n",
      "\n",
      " [[ 7  8  9]\n",
      "  [10 11 12]]]\n",
      "<class 'numpy.ndarray'>\n"
     ]
    }
   ],
   "source": [
    "arr3 = np.array([[[1,2,3],[4,5,6]],[[7,8,9],[10,11,12]]])\n",
    "print(arr3)\n",
    "print(type(arr3))"
   ]
  },
  {
   "cell_type": "markdown",
   "id": "ab30a07e",
   "metadata": {},
   "source": [
    "check the dimentions"
   ]
  },
  {
   "cell_type": "code",
   "execution_count": 56,
   "id": "ffe79de1",
   "metadata": {},
   "outputs": [
    {
     "name": "stdout",
     "output_type": "stream",
     "text": [
      "0-D 0\n",
      "1-D 1\n",
      "2-D 2\n",
      "3-D 3\n"
     ]
    }
   ],
   "source": [
    "print(\"0-D\",arr.ndim)\n",
    "print(\"1-D\",arr1.ndim)\n",
    "print(\"2-D\",arr2.ndim)\n",
    "print(\"3-D\",arr3.ndim)"
   ]
  },
  {
   "cell_type": "markdown",
   "id": "a4f9571a",
   "metadata": {},
   "source": [
    "other way to create dimention like"
   ]
  },
  {
   "cell_type": "code",
   "execution_count": 63,
   "id": "c1914789",
   "metadata": {},
   "outputs": [
    {
     "name": "stdout",
     "output_type": "stream",
     "text": [
      "0 [1] [[2]] [[[3]]]\n",
      "0-D 0\n",
      "1-D 1\n",
      "2-D 2\n",
      "3-D 3\n"
     ]
    }
   ],
   "source": [
    "a = np.array(0)\n",
    "b = np.array([1])\n",
    "c = np.array([[2]])\n",
    "d = np.array([[[3]]])\n",
    "print(a,b,c,d)\n",
    "print(\"0-D\",a.ndim)\n",
    "print(\"1-D\",b.ndim)\n",
    "print(\"2-D\",c.ndim)\n",
    "print(\"3-D\",d.ndim)"
   ]
  },
  {
   "cell_type": "markdown",
   "id": "04287abb",
   "metadata": {},
   "source": [
    "higher dimantion array"
   ]
  },
  {
   "cell_type": "code",
   "execution_count": 64,
   "id": "6deb1e16",
   "metadata": {},
   "outputs": [],
   "source": [
    "jh = np.array([1,2,3,4,5])"
   ]
  },
  {
   "cell_type": "code",
   "execution_count": 66,
   "id": "99afb1dd",
   "metadata": {},
   "outputs": [
    {
     "name": "stdout",
     "output_type": "stream",
     "text": [
      "[1 2 3 4 5]\n",
      "<class 'numpy.ndarray'>\n",
      "1\n"
     ]
    }
   ],
   "source": [
    "print(jh)\n",
    "print(type(jh))\n",
    "print(jh.ndim)"
   ]
  },
  {
   "cell_type": "code",
   "execution_count": 69,
   "id": "cbef10f0",
   "metadata": {},
   "outputs": [
    {
     "name": "stdout",
     "output_type": "stream",
     "text": [
      "[[[[[[[[[[1 2 3 4 5]]]]]]]]]]\n",
      "<class 'numpy.ndarray'>\n",
      "10\n"
     ]
    }
   ],
   "source": [
    "jh = np.array([1,2,3,4,5], ndmin=10) # ndimn(number of dimantion) = 10 means 10-D array\n",
    "print(jh)\n",
    "print(type(jh))\n",
    "print(jh.ndim)"
   ]
  },
  {
   "cell_type": "markdown",
   "id": "1f514b90",
   "metadata": {},
   "source": [
    "assess array elements"
   ]
  },
  {
   "cell_type": "code",
   "execution_count": null,
   "id": "54fc6764",
   "metadata": {},
   "outputs": [
    {
     "name": "stdout",
     "output_type": "stream",
     "text": [
      "[1 2 3 4]\n",
      "<class 'numpy.ndarray'>\n",
      "1\n",
      "1\n"
     ]
    }
   ],
   "source": [
    "jh1 = np.array([1,2,3,4])\n",
    "print(jh1)\n",
    "print(type(jh1))\n",
    "print(jh1.ndim)\n",
    "print(jh1[0]) #find position of 1 "
   ]
  },
  {
   "cell_type": "code",
   "execution_count": 74,
   "id": "f0ec7c75",
   "metadata": {},
   "outputs": [
    {
     "name": "stdout",
     "output_type": "stream",
     "text": [
      "4\n"
     ]
    }
   ],
   "source": [
    "#like(0=1,1=2,2=3,3=4) \n",
    "print(jh1[3]) #find position of 4 "
   ]
  },
  {
   "cell_type": "code",
   "execution_count": null,
   "id": "e8df48f3",
   "metadata": {},
   "outputs": [],
   "source": []
  }
 ],
 "metadata": {
  "kernelspec": {
   "display_name": "Python 3",
   "language": "python",
   "name": "python3"
  },
  "language_info": {
   "codemirror_mode": {
    "name": "ipython",
    "version": 3
   },
   "file_extension": ".py",
   "mimetype": "text/x-python",
   "name": "python",
   "nbconvert_exporter": "python",
   "pygments_lexer": "ipython3",
   "version": "3.10.11"
  }
 },
 "nbformat": 4,
 "nbformat_minor": 5
}
